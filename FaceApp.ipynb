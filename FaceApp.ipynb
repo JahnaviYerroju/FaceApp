{
 "cells": [
  {
   "cell_type": "code",
   "execution_count": null,
   "id": "1c2b9ab7-b900-41d4-8644-4fa5e6f31e6f",
   "metadata": {},
   "outputs": [],
   "source": [
    "import cv2\n",
    "import face_recognition\n"
   ]
  },
  {
   "cell_type": "code",
   "execution_count": null,
   "id": "254deb8b-e7af-43a6-9199-4ba90947e997",
   "metadata": {},
   "outputs": [],
   "source": [
    "import face_recognition\n",
    "known_image1 = face_recognition.load_image_file(\"photo-output.JPEG\")\n",
    "known_encoding1 = face_recognition.face_encodings(known_image1)[0]\n",
    "known_image2 = face_recognition.load_image_file(\"satya.jpg\")\n",
    "known_encoding2 = face_recognition.face_encodings(known_image2)[0]\n",
    "known_faces = [known_encoding1, known_encoding2]\n",
    "known_names = [\"Jahnavi\", \"Satya\"]"
   ]
  },
  {
   "cell_type": "code",
   "execution_count": null,
   "id": "90a7b187-ce53-490c-9363-2dba742b3c88",
   "metadata": {},
   "outputs": [],
   "source": [
    "video_capture = cv2.VideoCapture(0)  # Open webcam\n",
    "\n",
    "while True:\n",
    "    ret, frame = video_capture.read()\n",
    "    \n",
    "    rgb_frame = cv2.cvtColor(frame, cv2.COLOR_BGR2RGB)  \n",
    "    face_locations = face_recognition.face_locations(rgb_frame)\n",
    "    face_encodings = face_recognition.face_encodings(rgb_frame, face_locations)\n",
    "    \n",
    "    for face_encoding, face_location in zip(face_encodings, face_locations):\n",
    "        matches = face_recognition.compare_faces(known_faces, face_encoding)\n",
    "        name = \"Unknown\"\n",
    "\n",
    "        if True in matches:\n",
    "            match_index = matches.index(True)\n",
    "            name = known_names[match_index]\n",
    "\n",
    "        top, right, bottom, left = face_location\n",
    "        cv2.rectangle(frame, (left, top), (right, bottom), (0, 255, 0), 2)\n",
    "        cv2.putText(frame, name, (left, top - 10), cv2.FONT_HERSHEY_SIMPLEX, 0.8, (255, 255, 255), 2)\n",
    "\n",
    "    cv2.imshow(\"Face Recognition\", frame)\n",
    "\n",
    "    if cv2.waitKey(1) & 0xFF == ord(\"q\"):\n",
    "        break\n",
    "\n",
    "video_capture.release()\n",
    "cv2.destroyAllWindows()\n"
   ]
  },
  {
   "cell_type": "code",
   "execution_count": null,
   "id": "3c4ef781-4d99-423d-9ac6-66b01cdc2219",
   "metadata": {},
   "outputs": [],
   "source": []
  },
  {
   "cell_type": "code",
   "execution_count": null,
   "id": "abc186b3-625d-486a-a895-54b5c666d948",
   "metadata": {},
   "outputs": [],
   "source": []
  }
 ],
 "metadata": {
  "kernelspec": {
   "display_name": "Python 3 (ipykernel)",
   "language": "python",
   "name": "python3"
  },
  "language_info": {
   "codemirror_mode": {
    "name": "ipython",
    "version": 3
   },
   "file_extension": ".py",
   "mimetype": "text/x-python",
   "name": "python",
   "nbconvert_exporter": "python",
   "pygments_lexer": "ipython3",
   "version": "3.11.8"
  }
 },
 "nbformat": 4,
 "nbformat_minor": 5
}
